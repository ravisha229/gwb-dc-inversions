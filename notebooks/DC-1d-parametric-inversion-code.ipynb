{
 "cells": [
  {
   "cell_type": "markdown",
   "metadata": {},
   "source": [
    "# DC Resistivity: 1D parametric inversion \n",
    "_Inverting for Resistivities and Layers_\n",
    "\n",
    "\n",
    "Here we use the module *SimPEG.electromangetics.static.resistivity* to invert\n",
    "DC resistivity sounding data and recover the resistivities and layer thicknesses\n",
    "for a 1D layered Earth. In this tutorial, we focus on the following:\n",
    "\n",
    "- How to define sources and receivers from a survey file\n",
    "- How to define the survey\n",
    "- Defining a model that consists of resistivities and layer thicknesses\n",
    "\n",
    "For this tutorial, we will invert sounding data collected over a layered Earth using\n",
    "a Wenner array. The end product is layered Earth model which explains the data.\n",
    "    "
   ]
  },
  {
   "cell_type": "markdown",
   "metadata": {},
   "source": [
    "## Import modules"
   ]
  },
  {
   "cell_type": "code",
   "execution_count": null,
   "metadata": {},
   "outputs": [],
   "source": [
    "import os\n",
    "import numpy as np\n",
    "import matplotlib as mpl\n",
    "import matplotlib.pyplot as plt\n",
    "import pandas as pd\n",
    "\n",
    "from discretize import TensorMesh\n",
    "\n",
    "from SimPEG import (\n",
    "    maps, data, data_misfit, regularization,\n",
    "    optimization, inverse_problem, inversion, directives\n",
    ")\n",
    "from SimPEG.electromagnetics.static import resistivity as dc\n",
    "from SimPEG.electromagnetics.static.utils.StaticUtils import plot_layer\n",
    "\n",
    "mpl.rcParams.update({'font.size': 14})"
   ]
  },
  {
   "cell_type": "markdown",
   "metadata": {},
   "source": [
    "## Define Parameters for the Inversion"
   ]
  },
  {
   "cell_type": "code",
   "execution_count": null,
   "metadata": {},
   "outputs": [],
   "source": [
    "# Define the file path to the data file. Also define the AB/2, MN/2 and apparent resistivity columns.\n",
    "# Recall that python counts starting at 0\n",
    "data_filename = './sounding_data/Aung_San_Location_1_raw.csv'\n",
    "half_AB_column = 'AB/2 (m)'\n",
    "half_MN_column = 'MN/2 (m)'\n",
    "apparent_resistivity_column = 'App. Res. (Ohm m)'\n",
    "\n",
    "# Define the floor and percent uncertainty you would like to apply to apparent resistivity data\n",
    "uncertainty_floor = 5\n",
    "uncertainty_percent = 10.\n",
    "\n",
    "# Define layer thicknesses and resistivities for the starting model. The thickness\n",
    "# of the bottom layer is not used, as we assume it extends downward to infinity.\n",
    "layer_thicknesses = np.r_[10, 10]\n",
    "halfspace_resistivity = 300."
   ]
  },
  {
   "cell_type": "markdown",
   "metadata": {},
   "source": [
    "## Load Data, Define Survey and Plot\n",
    "\n",
    "Here we load the observed data, define the DC survey geometry and plot the\n",
    "data values."
   ]
  },
  {
   "cell_type": "code",
   "execution_count": null,
   "metadata": {},
   "outputs": [],
   "source": [
    "# Load data\n",
    "df = pd.read_csv(data_filename)\n",
    "\n",
    "# Extract source and receiver electrode locations and the observed data\n",
    "half_AB_separations = df[half_AB_column]\n",
    "half_MN_separations = df[half_MN_column]\n",
    "dobs = df[apparent_resistivity_column].values\n",
    "\n",
    "resistivities = halfspace_resistivity*np.ones(layer_thicknesses.size+1)\n",
    "\n",
    "# Define survey\n",
    "unique_tx, k = np.unique(half_AB_separations, return_index=True)\n",
    "n_sources = len(k)\n",
    "k = np.sort(k)\n",
    "k = np.r_[k, len(dobs)+1]\n",
    "\n",
    "source_list = []\n",
    "for ii in range(0, n_sources):\n",
    "    \n",
    "    # MN electrode locations for receivers. Each is an (N, 3) numpy array\n",
    "    M_locations = -half_MN_separations[k[ii]:k[ii+1]]\n",
    "    M_locations = np.c_[M_locations, np.zeros((np.shape(M_locations)[0], 2))]\n",
    "    N_locations = half_MN_separations[k[ii]:k[ii+1]]\n",
    "    N_locations = np.c_[N_locations, np.zeros((np.shape(N_locations)[0], 2))]\n",
    "    receiver_list = [dc.receivers.Dipole(M_locations, N_locations)]\n",
    "    \n",
    "    # AB electrode locations for source. Each is a (1, 3) numpy array\n",
    "    A_location = np.r_[-half_AB_separations[k[ii]], 0., 0.]\n",
    "    B_location = np.r_[half_AB_separations[k[ii]], 0., 0.]\n",
    "    source_list.append(dc.sources.Dipole(receiver_list, A_location, B_location))\n",
    "\n",
    "# Define survey\n",
    "survey = dc.Survey(source_list)\n",
    "\n",
    "# Compute the A, B, M and N electrode locations.\n",
    "survey.getABMN_locations()\n",
    "\n",
    "# Plot apparent resistivities on sounding curve as a function of Wenner separation\n",
    "# parameter.\n",
    "electrode_separations = np.sqrt(\n",
    "    np.sum((survey.m_locations - survey.n_locations)**2, axis=1)\n",
    ")\n",
    "\n",
    "fig, ax = plt.subplots(1, 1, figsize=(11, 5))\n",
    "ax.loglog(half_AB_separations, dobs, 'b', lw=2)\n",
    "ax.grid(True, which='both', ls=\"--\", c='gray')\n",
    "ax.set_xlabel(\"AB/2 (m)\")\n",
    "ax.set_ylabel(\"Apparent Resistivity ($\\Omega m$)\")"
   ]
  },
  {
   "cell_type": "markdown",
   "metadata": {},
   "source": [
    "## Assign Uncertainties\n",
    "\n",
    "Inversion with SimPEG requires that we define uncertainties on our data. The\n",
    "uncertainty represents our estimate of the standard deviation of the noise on\n",
    "our data."
   ]
  },
  {
   "cell_type": "code",
   "execution_count": null,
   "metadata": {},
   "outputs": [],
   "source": [
    "uncertainties = uncertainty_floor + 0.01*uncertainty_percent*np.abs(dobs)"
   ]
  },
  {
   "cell_type": "markdown",
   "metadata": {},
   "source": [
    "## Define Data\n",
    "\n",
    "\n",
    "Here is where we define the data that are inverted. The data are defined by\n",
    "the survey, the observation values and the uncertainties."
   ]
  },
  {
   "cell_type": "code",
   "execution_count": null,
   "metadata": {},
   "outputs": [],
   "source": [
    "data_object = data.Data(survey, dobs=dobs, standard_deviation=uncertainties)"
   ]
  },
  {
   "cell_type": "markdown",
   "metadata": {},
   "source": [
    "## Defining the Starting Model and Mapping\n"
   ]
  },
  {
   "cell_type": "code",
   "execution_count": null,
   "metadata": {},
   "outputs": [],
   "source": [
    "# Define the layers as a mesh\n",
    "mesh = TensorMesh([layer_thicknesses], '0')\n",
    "print(mesh)\n",
    "\n",
    "# Define model. We are inverting for the layer resistivities and layer thicknesses.\n",
    "# Since the bottom layer extends to infinity, it is not a model parameter for\n",
    "# which we need to invert. For a 3 layer model, there is a total of 5 parameters.\n",
    "# For stability, our model is the log-resistivity and log-thickness.\n",
    "starting_model = np.r_[np.log(resistivities), np.log(layer_thicknesses)]\n",
    "\n",
    "# Since the model contains two different properties for each layer, we use\n",
    "# wire maps to distinguish the properties.\n",
    "wire_map = maps.Wires(('rho', mesh.nC+1), ('t', mesh.nC))\n",
    "resistivity_map = maps.ExpMap(nP=mesh.nC+1) * wire_map.rho\n",
    "layer_map = maps.ExpMap(nP=mesh.nC) * wire_map.t"
   ]
  },
  {
   "cell_type": "markdown",
   "metadata": {},
   "source": [
    "## Define the Physics\n",
    "\n",
    "Here we define the physics of the problem using the DCSimulation_1D class.\n"
   ]
  },
  {
   "cell_type": "code",
   "execution_count": null,
   "metadata": {},
   "outputs": [],
   "source": [
    "simulation = dc.simulation_1d.Simulation1DLayers(\n",
    "    survey=survey, rhoMap=resistivity_map, thicknessesMap=layer_map,\n",
    "    data_type=\"apparent_resistivity\"\n",
    ")"
   ]
  },
  {
   "cell_type": "markdown",
   "metadata": {},
   "source": [
    "## Define Inverse Problem\n",
    "\n",
    "The inverse problem is defined by 3 things:\n",
    "\n",
    "    1) Data Misfit: a measure of how well our recovered model explains the field data\n",
    "    2) Regularization: constraints placed on the recovered model and a priori information\n",
    "    3) Optimization: the numerical approach used to solve the inverse problem\n",
    "\n"
   ]
  },
  {
   "cell_type": "code",
   "execution_count": null,
   "metadata": {},
   "outputs": [],
   "source": [
    "# Define the data misfit. Here the data misfit is the L2 norm of the weighted\n",
    "# residual between the observed data and the data predicted for a given model.\n",
    "# The weighting is defined by the reciprocal of the uncertainties.\n",
    "dmis = data_misfit.L2DataMisfit(simulation=simulation, data=data_object)\n",
    "\n",
    "# Define the regularization on the parameters related to resistivity\n",
    "mesh_rho = TensorMesh([mesh.hx.size+1])\n",
    "reg_rho = regularization.Simple(\n",
    "    mesh_rho, alpha_s=1., alpha_x=1,\n",
    "    mapping=wire_map.rho\n",
    ")\n",
    "\n",
    "# Define the regularization on the parameters related to layer thickness\n",
    "mesh_t = TensorMesh([mesh.hx.size])\n",
    "reg_t = regularization.Simple(\n",
    "    mesh_t, alpha_s=1., alpha_x=1,\n",
    "    mapping=wire_map.t    \n",
    ")\n",
    "\n",
    "# Combine to make regularization for the inversion problem\n",
    "reg = reg_rho + reg_t\n",
    "\n",
    "# Define how the optimization problem is solved. Here we will use an inexact\n",
    "# Gauss-Newton approach that employs the conjugate gradient solver.\n",
    "opt = optimization.InexactGaussNewton(\n",
    "    maxIter=20, maxIterCG=30, print_type='ubc'\n",
    ")\n",
    "\n",
    "# Define the inverse problem\n",
    "inv_prob = inverse_problem.BaseInvProblem(dmis, reg, opt)"
   ]
  },
  {
   "cell_type": "markdown",
   "metadata": {},
   "source": [
    "## Define Inversion Directives\n",
    "\n",
    "Here we define any directives that are carried out during the inversion. This\n",
    "includes the cooling schedule for the trade-off parameter (beta), stopping\n",
    "criteria for the inversion and saving inversion results at each iteration.\n",
    "\n"
   ]
  },
  {
   "cell_type": "code",
   "execution_count": null,
   "metadata": {},
   "outputs": [],
   "source": [
    "# Defining a starting value for the trade-off parameter (beta) between the data\n",
    "# misfit and the regularization.\n",
    "starting_beta = directives.BetaEstimate_ByEig(beta0_ratio=1.)\n",
    "\n",
    "# Set the rate of reduction in trade-off parameter (beta) each time the\n",
    "# the inverse problem is solved. And set the number of Gauss-Newton iterations\n",
    "# for each trade-off paramter value.\n",
    "beta_schedule = directives.BetaSchedule(coolingFactor=2., coolingRate=1.)\n",
    "\n",
    "# Apply and update sensitivity weighting as the model updates\n",
    "update_sensitivity_weights = directives.UpdateSensitivityWeights()\n",
    "\n",
    "# Options for outputting recovered models and predicted data for each beta.\n",
    "save_iteration = directives.SaveOutputEveryIteration(save_txt=False)\n",
    "\n",
    "# Setting a stopping criteria for the inversion.\n",
    "target_misfit = directives.TargetMisfit(chifact=1)\n",
    "\n",
    "# The directives are defined in a list\n",
    "directives_list = [\n",
    "    starting_beta, beta_schedule, target_misfit\n",
    "]"
   ]
  },
  {
   "cell_type": "markdown",
   "metadata": {},
   "source": [
    "## Running the Inversion\n",
    "\n",
    "\n",
    "To define the inversion object, we need to define the inversion problem and\n",
    "the set of directives. We can then run the inversion.\n",
    "\n",
    "\n"
   ]
  },
  {
   "cell_type": "code",
   "execution_count": null,
   "metadata": {},
   "outputs": [],
   "source": [
    "# Here we combine the inverse problem and the set of directives\n",
    "inv = inversion.BaseInversion(inv_prob, directives_list)\n",
    "\n",
    "# Run the inversion\n",
    "recovered_model = inv.run(starting_model)"
   ]
  },
  {
   "cell_type": "code",
   "execution_count": null,
   "metadata": {},
   "outputs": [],
   "source": [
    "# Inversion result from Mon DRD Mawlamyine location 3\n",
    "res_tmp = np.array([348.4, 722.9, 282, 100.8, 51.4, 170.8, 31.1, 184.3])\n",
    "thick_tmp = np.array([1.4, 1.6, 1.4, 12.1, 11.4, 25.1, 54.2])\n",
    "plotting_mesh_tmp = TensorMesh([np.r_[thick_tmp, layer_thicknesses[-1]]], '0')"
   ]
  },
  {
   "cell_type": "markdown",
   "metadata": {},
   "source": [
    "## Examining the Results\n",
    "\n"
   ]
  },
  {
   "cell_type": "code",
   "execution_count": null,
   "metadata": {},
   "outputs": [],
   "source": [
    "# Plot true model and recovered model\n",
    "fig, ax = plt.subplots(1, 1, figsize=(5, 5))\n",
    "plotting_mesh = TensorMesh([np.r_[layer_map*recovered_model, layer_thicknesses[-1]]], '0')\n",
    "x_min = np.min(resistivity_map*recovered_model)\n",
    "x_max = np.max(resistivity_map*recovered_model)\n",
    "\n",
    "plot_layer(resistivity_map*recovered_model, plotting_mesh, ax=ax, depth_axis=False, color='k')\n",
    "#plot_layer(res_tmp, plotting_mesh_tmp, ax=ax, depth_axis=False, color='r')\n",
    "#ax.set_xlim(10, 5000)\n",
    "#ax.set_ylim(-300, 0)\n",
    "#ax.legend((\"SimPEG\", \"Mon State DRD\"))\n",
    "ax.grid(True, which='both', ls=\"--\", c='gray')"
   ]
  },
  {
   "cell_type": "code",
   "execution_count": null,
   "metadata": {},
   "outputs": [],
   "source": [
    "# Plot the true and apparent resistivities on a sounding curve\n",
    "fig, ax = plt.subplots(1, 1, figsize=(7, 5))\n",
    "ax.loglog(half_AB_separations, dobs, 'kx', lw=2, ms=10, mew=2)\n",
    "ax.loglog(half_AB_separations, inv_prob.dpred, 'k', lw=2)\n",
    "ax.set_xlabel(\"AB/2 (m)\")\n",
    "ax.set_ylabel(\"Apparent Resistivity ($\\Omega m$)\")\n",
    "ax.legend(['Observed data','Predicted data'])\n",
    "#ax.set_ylim(50, 1000)\n",
    "ax.grid(True, which='both')"
   ]
  },
  {
   "cell_type": "code",
   "execution_count": null,
   "metadata": {},
   "outputs": [],
   "source": []
  }
 ],
 "metadata": {
  "kernelspec": {
   "display_name": "Python 3",
   "language": "python",
   "name": "python3"
  },
  "language_info": {
   "codemirror_mode": {
    "name": "ipython",
    "version": 3
   },
   "file_extension": ".py",
   "mimetype": "text/x-python",
   "name": "python",
   "nbconvert_exporter": "python",
   "pygments_lexer": "ipython3",
   "version": "3.8.5"
  }
 },
 "nbformat": 4,
 "nbformat_minor": 4
}
