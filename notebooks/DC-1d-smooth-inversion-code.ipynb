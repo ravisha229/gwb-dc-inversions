{
 "cells": [
  {
   "cell_type": "markdown",
   "metadata": {},
   "source": [
    "# DC Resistivity: 1D Resistivity Inversion\n",
    "\n",
    "\n",
    "In this notebook, we:\n",
    "- load Schlumberger sounding data from a text file\n",
    "- plot the raw apparent resistivity data as a function of electrode separation\n",
    "- assign uncertainties to the data\n",
    "- recover an electrical resistivity model for a specified number of layers\n",
    "- plot the recovered resistivity model and compare observed and predicted data\n",
    "\n"
   ]
  },
  {
   "cell_type": "markdown",
   "metadata": {},
   "source": [
    "## Import Modules"
   ]
  },
  {
   "cell_type": "code",
   "execution_count": null,
   "metadata": {},
   "outputs": [],
   "source": [
    "import os\n",
    "import numpy as np\n",
    "import matplotlib as mpl\n",
    "import matplotlib.pyplot as plt\n",
    "import pandas as pd\n",
    "\n",
    "from discretize import TensorMesh\n",
    "\n",
    "from SimPEG import (maps, data, data_misfit, regularization,\n",
    "    optimization, inverse_problem, inversion, directives\n",
    "    )\n",
    "from SimPEG.electromagnetics.static import resistivity as dc\n",
    "from SimPEG.electromagnetics.static.utils.StaticUtils import plot_layer\n",
    "from SimPEG.utils import mkvc\n",
    "\n",
    "mpl.rcParams.update({'font.size': 14})\n"
   ]
  },
  {
   "cell_type": "markdown",
   "metadata": {},
   "source": [
    "## User Defined Paramters for the Notebook\n",
    "\n",
    "\n",
    "Here, the user defines paramters required to run the notebook. These parameters are as follows:\n",
    "- **data_filename:** The file path to a csv file containing the sounding data\n",
    "- **half_AB_column:** The column in the csv file that has the AB/2 values.\n",
    "- **half_MN_column:** The column in the csv file that has the MN/2 values.\n",
    "- **apparent_resistivity_column:** The column in the csv file that has the apparent resistivity values.\n",
    "\n",
    "\n",
    "- **uncertainty_column:** The column in the csv file that has the uncertainty, or the keyword `None`.\n",
    "- **uncertainty_floor:** The floor uncertainty to be added to each datum\n",
    "- **uncertainty_percent:** The percent uncertainty to be added to each datum\n",
    "- **chi_factor:** Controls how closely we fit the data in the inversion.\n",
    "\n",
    "\n",
    "- **layer_thicknesses:** Layer thicknesses in meters. Defined from top layer to bottom"
   ]
  },
  {
   "cell_type": "code",
   "execution_count": null,
   "metadata": {},
   "outputs": [],
   "source": [
    "# Define the file path to the data file. Also define the AB/2, MN/2 and apparent resistivity columns.\n",
    "# Recall that python counts starting at 0\n",
    "data_filename = './sounding_data/Mawlamyine_data_locations_3.csv'\n",
    "half_AB_column = 'AB/2 (m)'\n",
    "half_MN_column = 'MN/2 (m)'\n",
    "apparent_resistivity_column = 'App. Res. (Ohm m)'\n",
    "\n",
    "# Define the uncertainties for the inversion.\n",
    "# Either use the uncertainty from the data file,\n",
    "uncertainty_column = None\n",
    "# or define the floor and percent uncertainty you would like to apply to apparent resistivity data\n",
    "uncertainty_floor = 5.\n",
    "uncertainty_percent = 5.\n",
    "chi_factor = 1.0\n",
    "\n",
    "\n",
    "# Define layer thicknesses as a numpy array\n",
    "layer_thicknesses = 5*1.1**np.arange(21)\n",
    "halfspace_resistivity = 300."
   ]
  },
  {
   "cell_type": "markdown",
   "metadata": {},
   "source": [
    "## Load Data, Define Survey and Plot\n",
    "\n",
    "Here we load the observed data, define the DC survey geometry and plot the\n",
    "data values."
   ]
  },
  {
   "cell_type": "code",
   "execution_count": null,
   "metadata": {},
   "outputs": [],
   "source": [
    "# Load data\n",
    "df = pd.read_csv(data_filename)\n",
    "\n",
    "# Extract source and receiver electrode locations and the observed data\n",
    "half_AB_separations = df[half_AB_column]\n",
    "half_MN_separations = df[half_MN_column]\n",
    "dobs = df[apparent_resistivity_column].values\n",
    "\n",
    "# Define survey\n",
    "unique_tx, k = np.unique(half_AB_separations, return_index=True)\n",
    "n_sources = len(k)\n",
    "k = np.sort(k)\n",
    "k = np.r_[k, len(dobs)+1]\n",
    "\n",
    "source_list = []\n",
    "for ii in range(0, n_sources):\n",
    "    \n",
    "    # MN electrode locations for receivers. Each is an (N, 3) numpy array\n",
    "    M_locations = -half_MN_separations[k[ii]:k[ii+1]]\n",
    "    M_locations = np.c_[M_locations, np.zeros((np.shape(M_locations)[0], 2))]\n",
    "    N_locations = half_MN_separations[k[ii]:k[ii+1]]\n",
    "    N_locations = np.c_[N_locations, np.zeros((np.shape(N_locations)[0], 2))]\n",
    "    receiver_list = [dc.receivers.Dipole(M_locations, N_locations)]\n",
    "    \n",
    "    # AB electrode locations for source. Each is a (1, 3) numpy array\n",
    "    A_location = np.r_[-half_AB_separations[k[ii]], 0., 0.]\n",
    "    B_location = np.r_[half_AB_separations[k[ii]], 0., 0.]\n",
    "    source_list.append(dc.sources.Dipole(receiver_list, A_location, B_location))\n",
    "\n",
    "# Define survey\n",
    "survey = dc.Survey(source_list)\n",
    "\n",
    "# Compute the A, B, M and N electrode locations.\n",
    "survey.getABMN_locations()\n",
    "\n",
    "# Plot apparent resistivities on sounding curve as a function of Wenner separation\n",
    "# parameter.\n",
    "electrode_separations = np.sqrt(\n",
    "    np.sum((survey.m_locations - survey.n_locations)**2, axis=1)\n",
    ")\n",
    "\n",
    "fig, ax = plt.subplots(1, 1, figsize=(11, 5))\n",
    "ax.loglog(half_AB_separations, dobs, 'b', lw=2)\n",
    "ax.set_xlabel(\"AB/2 (m)\")\n",
    "ax.set_ylabel(\"Apparent Resistivity ($\\Omega m$)\")\n",
    "ax.grid(True, which='both', ls=\"--\", c='gray')\n"
   ]
  },
  {
   "cell_type": "markdown",
   "metadata": {},
   "source": [
    "## Assign Uncertainties\n",
    "\n",
    "Inversion with SimPEG requires that we define uncertainties on our data. The\n",
    "uncertainty represents our estimate of the standard deviation of the noise on\n",
    "our data."
   ]
  },
  {
   "cell_type": "code",
   "execution_count": null,
   "metadata": {},
   "outputs": [],
   "source": [
    "if uncertainty_column is not None:\n",
    "    uncertainties = df[uncertainty_column].values\n",
    "else:\n",
    "    uncertainties = uncertainty_floor + 0.01*uncertainty_percent*np.abs(dobs)"
   ]
  },
  {
   "cell_type": "markdown",
   "metadata": {},
   "source": [
    "## Define Data\n",
    "\n",
    "Here is where we define the data that are inverted. The data are defined by\n",
    "the survey, the observation values and the uncertainties."
   ]
  },
  {
   "cell_type": "code",
   "execution_count": null,
   "metadata": {},
   "outputs": [],
   "source": [
    "data_object = data.Data(survey, dobs=dobs, standard_deviation=uncertainties)"
   ]
  },
  {
   "cell_type": "markdown",
   "metadata": {},
   "source": [
    "## Define a Starting and Reference Model\n",
    "\n",
    "Here, we create starting and/or reference models for the inversion as\n",
    "well as the mapping from the model space to the active cells. Starting and\n",
    "reference models can be a constant background value or contain a-priori\n",
    "structures. Here, the starting model is log(1000) Ohm meters.\n",
    "\n",
    "Define log-resistivity values for each layer since our model is the\n",
    "log-resistivity. Don't make the values 0!\n",
    "Otherwise the gradient for the 1st iteration is zero and the inversion will\n",
    "not converge."
   ]
  },
  {
   "cell_type": "code",
   "execution_count": null,
   "metadata": {},
   "outputs": [],
   "source": [
    "# Defines layered Earth\n",
    "mesh = TensorMesh([(np.r_[layer_thicknesses, layer_thicknesses[-1]])], '0')\n",
    "\n",
    "# Define model. A resistivity (Ohm meters) or conductivity (S/m) for each layer.\n",
    "starting_model = np.log(halfspace_resistivity)*np.ones((mesh.nC))\n",
    "\n",
    "# Define mapping from model to active cells.\n",
    "model_map = maps.IdentityMap(mesh)*maps.ExpMap()"
   ]
  },
  {
   "cell_type": "markdown",
   "metadata": {},
   "source": [
    "## Define the Physics\n",
    "\n",
    "Here we define the physics of the problem using the DCSimulation_1D class.\n"
   ]
  },
  {
   "cell_type": "code",
   "execution_count": null,
   "metadata": {},
   "outputs": [],
   "source": [
    "simulation = dc.simulation_1d.Simulation1DLayers(\n",
    "    survey=survey, rhoMap=model_map, thicknesses=layer_thicknesses,\n",
    "    data_type=\"apparent_resistivity\"\n",
    ")"
   ]
  },
  {
   "cell_type": "markdown",
   "metadata": {},
   "source": [
    "## Define Inverse Problem\n",
    "\n",
    "The inverse problem is defined by 3 things:\n",
    "\n",
    "    1) Data Misfit: a measure of how well our recovered model explains the field data\n",
    "    2) Regularization: constraints placed on the recovered model and a priori information\n",
    "    3) Optimization: the numerical approach used to solve the inverse problem\n",
    "\n"
   ]
  },
  {
   "cell_type": "code",
   "execution_count": null,
   "metadata": {},
   "outputs": [],
   "source": [
    "# Define the data misfit. Here the data misfit is the L2 norm of the weighted\n",
    "# residual between the observed data and the data predicted for a given model.\n",
    "# The weighting is defined by the reciprocal of the uncertainties.\n",
    "dmis = data_misfit.L2DataMisfit(simulation=simulation, data=data_object)\n",
    "\n",
    "# Define the regularization (model objective function)\n",
    "reg = regularization.Simple(\n",
    "    mesh, alpha_s=1e-3, alpha_x=1., mref=starting_model\n",
    ")\n",
    "\n",
    "# Create model weights based on sensitivity matrix (sensitivity weighting). This is\n",
    "# done to counteract the inversion's desire to place structures only at regions\n",
    "# of very high sensitivity.\n",
    "# wr = np.sum(simulation.getJ(starting_model)**2, axis=0)**0.5\n",
    "# wr = (wr/np.max(np.abs(wr)))\n",
    "# reg.cell_weights = wr  # include in regularization\n",
    "\n",
    "# Define how the optimization problem is solved. Here we will use an inexact\n",
    "# Gauss-Newton approach that employs the conjugate gradient solver.\n",
    "opt = optimization.InexactGaussNewton(\n",
    "    maxIter=30, maxIterCG=20, print_type='ubc'\n",
    ")\n",
    "\n",
    "# Define the inverse problem\n",
    "inv_prob = inverse_problem.BaseInvProblem(dmis, reg, opt)"
   ]
  },
  {
   "cell_type": "markdown",
   "metadata": {},
   "source": [
    "## Define Inversion Directives\n",
    "\n",
    "Here we define any directives that are carried out during the inversion. This\n",
    "includes the cooling schedule for the trade-off parameter (beta), stopping\n",
    "criteria for the inversion and saving inversion results at each iteration.\n",
    "\n"
   ]
  },
  {
   "cell_type": "code",
   "execution_count": null,
   "metadata": {},
   "outputs": [],
   "source": [
    "starting_resistivity = starting_model\n",
    "print(np.exp(starting_resistivity))"
   ]
  },
  {
   "cell_type": "code",
   "execution_count": null,
   "metadata": {},
   "outputs": [],
   "source": [
    "# Defining a starting value for the trade-off parameter (beta) between the data\n",
    "# misfit and the regularization.\n",
    "starting_beta = directives.BetaEstimate_ByEig(beta0_ratio=1e0)\n",
    "\n",
    "# Set the rate of reduction in trade-off parameter (beta) each time the\n",
    "# the inverse problem is solved. And set the number of Gauss-Newton iterations\n",
    "# for each trade-off paramter value.\n",
    "beta_schedule = directives.BetaSchedule(coolingFactor=2., coolingRate=1.)\n",
    "\n",
    "# Apply and update sensitivity weighting as the model updates\n",
    "update_sensitivity_weights = directives.UpdateSensitivityWeights()\n",
    "\n",
    "# Options for outputting recovered models and predicted data for each beta.\n",
    "save_iteration = directives.SaveOutputDictEveryIteration()\n",
    "\n",
    "# Setting a stopping criteria for the inversion.\n",
    "target_misfit = directives.TargetMisfit(chifact=1)\n",
    "\n",
    "# The directives are defined as a list.\n",
    "directives_list = [\n",
    "    starting_beta, beta_schedule,\n",
    "    save_iteration, target_misfit\n",
    "]"
   ]
  },
  {
   "cell_type": "markdown",
   "metadata": {},
   "source": [
    "## Running the Inversion\n",
    "\n",
    "To define the inversion object, we need to define the inversion problem and\n",
    "the set of directives. We can then run the inversion.\n",
    "\n",
    "\n"
   ]
  },
  {
   "cell_type": "code",
   "execution_count": null,
   "metadata": {},
   "outputs": [],
   "source": [
    "# Here we combine the inverse problem and the set of directives\n",
    "inv = inversion.BaseInversion(inv_prob, directives_list)\n",
    "\n",
    "# Run the inversion\n",
    "recovered_model = inv.run(starting_model)"
   ]
  },
  {
   "cell_type": "code",
   "execution_count": null,
   "metadata": {},
   "outputs": [],
   "source": [
    "# Inversion result from Mon DRD\n",
    "res_tmp = np.array([348.4, 722.9, 282, 100.8, 51.4, 170.8, 31.1, 184.3])\n",
    "thick_tmp = np.array([1.4, 1.6, 1.4, 12.1, 11.4, 25.1, 54.2])\n",
    "plotting_mesh_tmp = TensorMesh([np.r_[thick_tmp, 200]], '0')"
   ]
  },
  {
   "cell_type": "markdown",
   "metadata": {},
   "source": [
    "## Examining the Results\n",
    "\n"
   ]
  },
  {
   "cell_type": "code",
   "execution_count": null,
   "metadata": {},
   "outputs": [],
   "source": [
    "# Plot recovered model\n",
    "fig, ax = plt.subplots(1, 1, figsize=(5, 5))\n",
    "x_min = np.min(model_map*recovered_model)\n",
    "x_max = np.max(model_map*recovered_model)\n",
    "\n",
    "plot_layer(model_map*recovered_model, mesh, ax=ax, depth_axis=False)\n",
    "ax.set_ylim(-300, 0)\n",
    "ax.set_xlim(10, 5000)\n",
    "ax.grid(True, which='both', ls=\"--\", c='gray')"
   ]
  },
  {
   "cell_type": "code",
   "execution_count": null,
   "metadata": {},
   "outputs": [],
   "source": [
    "# Plot the true and apparent resistivities on a sounding curve\n",
    "fig, ax = plt.subplots(1, 1, figsize=(7, 5))\n",
    "\n",
    "ax.loglog(half_AB_separations, inv_prob.dpred, 'k', lw=2)\n",
    "ax.loglog(half_AB_separations, dobs, 'kx', lw=2, ms=10, mew=2)\n",
    "ax.set_xlabel(\"AB/2 (m)\")\n",
    "ax.set_ylabel(\"Apparent Resistivity ($\\Omega m$)\")\n",
    "ax.legend(['Observed Sounding Curve','Predicted Sounding Curve'])\n",
    "ax.set_ylim(50, 1000)\n",
    "ax.grid(True, which='both', ls=\"--\", c='gray')"
   ]
  },
  {
   "cell_type": "code",
   "execution_count": null,
   "metadata": {},
   "outputs": [],
   "source": [
    "# Plot true model and recovered model\n",
    "fig, ax = plt.subplots(1, 1, figsize=(5, 5))\n",
    "x_min = np.min(model_map*recovered_model)\n",
    "x_max = np.max(model_map*recovered_model)\n",
    "\n",
    "plot_layer(model_map*recovered_model, mesh, ax=ax, depth_axis=False)\n",
    "plot_layer(res_tmp, plotting_mesh_tmp, ax=ax, depth_axis=False, color='r')\n",
    "ax.legend((\"SimPEG\", \"Mon State DRD\"))\n",
    "ax.grid(True, which='both', ls=\"--\", c='gray')\n",
    "ax.set_ylim(-300, 0)\n",
    "ax.set_xlim(10, 5000)"
   ]
  },
  {
   "cell_type": "code",
   "execution_count": null,
   "metadata": {},
   "outputs": [],
   "source": [
    "n_interation = len(save_iteration.outDict)\n",
    "phi_d = np.zeros(n_interation)\n",
    "phi_m = np.zeros(n_interation)\n",
    "\n",
    "for ii in range(1,n_interation+1):\n",
    "    phi_d[ii-1] = save_iteration.outDict[ii]['phi_d']\n",
    "    phi_m[ii-1] = save_iteration.outDict[ii]['phi_m']\n",
    "\n",
    "fig, ax = plt.subplots(1,2, figsize=(12,5))\n",
    "ax[0].plot(np.arange(n_interation)+1, phi_d, 'ko-')\n",
    "ax_1 = ax[0].twinx()\n",
    "ax_1.plot(np.arange(n_interation)+1, phi_m, 'ro-')\n",
    "ax[0].set_xlabel(\"Iteration\")\n",
    "ax[0].set_ylabel(\"$\\phi_d$\", fontsize = 20)\n",
    "ax_1.set_ylabel(\"$\\phi_m$\", fontsize = 20, color='r')\n",
    "\n",
    "ax[1].plot(phi_m, phi_d, 'ko-')\n",
    "ax[1].set_ylabel(\"$\\phi_d$\", fontsize = 20)\n",
    "ax[1].set_xlabel(\"$\\phi_m$\", fontsize = 20)\n",
    "plt.tight_layout()"
   ]
  },
  {
   "cell_type": "code",
   "execution_count": null,
   "metadata": {},
   "outputs": [],
   "source": []
  }
 ],
 "metadata": {
  "kernelspec": {
   "display_name": "Python 3",
   "language": "python",
   "name": "python3"
  },
  "language_info": {
   "codemirror_mode": {
    "name": "ipython",
    "version": 3
   },
   "file_extension": ".py",
   "mimetype": "text/x-python",
   "name": "python",
   "nbconvert_exporter": "python",
   "pygments_lexer": "ipython3",
   "version": "3.8.5"
  }
 },
 "nbformat": 4,
 "nbformat_minor": 4
}
