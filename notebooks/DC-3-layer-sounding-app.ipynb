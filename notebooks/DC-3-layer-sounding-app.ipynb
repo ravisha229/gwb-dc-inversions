{
 "cells": [
  {
   "cell_type": "markdown",
   "metadata": {},
   "source": [
    "# Sounding Curves over a 3 Layered Earth\n",
    "\n",
    "- **[Questions](https://www.dropbox.com/s/fb785jy2n3xk30g/DC-3-layer-sounding.pdf?dl=0)**\n",
    "\n",
    "In this notebook, we use widgets to learn how sounding curves depend on the Earth's resistivity. To accomplish this we use a 3-layered Earth model. We simulate the sounding curve data for both a Wenner array and a Schlumberger array.\n",
    "\n",
    "\n",
    "## Background: Sounding Curves\n",
    "\n",
    "As we increase the electrode spacing, we obtain information about the Earth's resistivity at greater depths. During a sounding survey, we measure the voltage and obtain the apparent resistivity for a range of electrode spacings. The end results is a *sounding curve*; which is a plot of the apparent resistivity as a function of the transmitter electrode spacing. Sounding curves are then used to gain information about the Earth's resistivity as a function of depth.\n",
    "\n",
    "<img style=\"float: center; width: 800px\" src=\"https://github.com/simpeg-research/gwb-dc-inversions/blob/master/figures/3_layer_sounding.png?raw=true\">\n",
    "\n",
    "**Electrode locations for a Wenner array measurement (left). Sounding curves acquired using a Wenner array and a Schlumberger array (right).**\n",
    "\n",
    "\n",
    "## Import Packages"
   ]
  },
  {
   "cell_type": "code",
   "execution_count": null,
   "metadata": {},
   "outputs": [],
   "source": [
    "import warnings\n",
    "warnings.filterwarnings(\"ignore\")"
   ]
  },
  {
   "cell_type": "code",
   "execution_count": null,
   "metadata": {},
   "outputs": [],
   "source": [
    "from utils.DCWidget3Layer2_5D import ThreeLayer_app\n",
    "from utils.DCResistivity import DCRSimulationApp\n",
    "from IPython.display import display\n",
    "%matplotlib inline\n",
    "from matplotlib import rcParams\n",
    "rcParams['font.size'] = 18"
   ]
  },
  {
   "cell_type": "markdown",
   "metadata": {},
   "source": [
    " ## User Defined Parameters for the App\n",
    " \n",
    " - **survey**: Type of survey\n",
    " - **$\\frac{AB}{2}$**: Half AB spacing\n",
    " - **$h_{1}$**: thickness of the top layer\n",
    " - **$h_{2}$**: thickness of the middle layer\n",
    " - **$\\rho_{1}$**: Resistivity of the top layer\n",
    " - **$\\rho_{2}$**: Resistivity of the middle layer\n",
    " - **$\\rho_{3}$**: Resistivity of the basement\n",
    " - **Field**: Field to visualize\n",
    " - **Type**: which part of the field\n",
    " - **Scale**: Linear or Log Scale visualization\n",
    " \n",
    " If you are going to interact with the sliders to investigate the apparent resistivity profile, we suggest leaving the Field display set to Model"
   ]
  },
  {
   "cell_type": "code",
   "execution_count": null,
   "metadata": {},
   "outputs": [],
   "source": [
    "ThreeLayer_app()"
   ]
  },
  {
   "cell_type": "code",
   "execution_count": null,
   "metadata": {},
   "outputs": [],
   "source": [
    "dc_app = DCRSimulationApp()\n",
    "dc_app.interact_plot_survey()"
   ]
  },
  {
   "cell_type": "code",
   "execution_count": null,
   "metadata": {},
   "outputs": [],
   "source": []
  }
 ],
 "metadata": {
  "kernelspec": {
   "display_name": "Python 3",
   "language": "python",
   "name": "python3"
  },
  "language_info": {
   "codemirror_mode": {
    "name": "ipython",
    "version": 3
   },
   "file_extension": ".py",
   "mimetype": "text/x-python",
   "name": "python",
   "nbconvert_exporter": "python",
   "pygments_lexer": "ipython3",
   "version": "3.8.5"
  }
 },
 "nbformat": 4,
 "nbformat_minor": 4
}
