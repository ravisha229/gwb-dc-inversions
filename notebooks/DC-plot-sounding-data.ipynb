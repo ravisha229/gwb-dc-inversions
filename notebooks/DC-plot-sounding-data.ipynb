{
 "cells": [
  {
   "cell_type": "markdown",
   "metadata": {},
   "source": [
    "# Plotting Schlumberger Sounding Data\n",
    "\n",
    "This notebook will allow you to:\n",
    "- Load basic text files containing sounding data\n",
    "- Plot the apparent resistivities as a function of electrode spacing for one or multiple sites\n",
    "\n",
    "By examining the apparent resistivity curves as a function of electrode spacing, we can get a sense as to how the electrical resistivity of the Earth changes with depth. We can also see how the resistivity profile changes from one location to another.\n",
    "\n",
    "## Import Modules"
   ]
  },
  {
   "cell_type": "code",
   "execution_count": null,
   "metadata": {},
   "outputs": [],
   "source": [
    "import numpy as np\n",
    "import pandas as pd\n",
    "import matplotlib as mpl\n",
    "import matplotlib.pyplot as plt\n",
    "\n",
    "mpl.rcParams.update({'font.size': 14})"
   ]
  },
  {
   "cell_type": "markdown",
   "metadata": {},
   "source": [
    "## User Defined Parameters for the Notebook\n",
    "\n",
    "In the cell below, the user defines the parameters needed to run the notebook. These parameters are as follows:\n",
    "- **data_filenames:** The path to the text file that contains the sounding data. To plot multiple locations at once, place the file paths in a list.\n",
    "- **half_AB_column:** The column in the text file that has the AB/2 values. Remember that in python, 0 is the 1st column\n",
    "- **half_MN_column:** The column in the text file that has the MN/2 values. Remember that in python, 0 is the 1st column\n",
    "- **apparent_resistivity_column:** The column in the text file that has the apparent resistivity values"
   ]
  },
  {
   "cell_type": "code",
   "execution_count": null,
   "metadata": {},
   "outputs": [],
   "source": [
    "# Define the file path to the data file. Also define the AB/2, MN/2 and apparent resistivity columns.\n",
    "# Recall that python counts starting at 0\n",
    "data_filenames = [\n",
    "    './sounding_data/Mawlamyine_data_locations_1.csv',\n",
    "    './sounding_data/Mawlamyine_data_locations_2.csv',\n",
    "    './sounding_data/Mawlamyine_data_locations_3.csv',\n",
    "    './sounding_data/Mawlamyine_data_locations_4.csv'\n",
    "] # Can be string or list of strings\n",
    "half_AB_column = 'AB/2 (m)'\n",
    "half_MN_column = 'MN/2 (m)'\n",
    "apparent_resistivity_column = ['App. Res. (Ohm m)']"
   ]
  },
  {
   "cell_type": "markdown",
   "metadata": {},
   "source": [
    "## Plotting Apparent Resistivity Curves\n",
    "\n",
    "The commands entered in the cell below will loop over the list of text files, load the data, and plot the apparent resistivity curves on a log-log plot."
   ]
  },
  {
   "cell_type": "code",
   "execution_count": null,
   "metadata": {},
   "outputs": [],
   "source": [
    "if isinstance(data_filenames, str):\n",
    "    data_filenames = [data_filenames]\n",
    "\n",
    "fig, ax = plt.subplots(1, 1, figsize=(11, 7))\n",
    "\n",
    "for ii in range(0, len(data_filenames)):\n",
    "\n",
    "    # Load data\n",
    "    df = pd.read_csv(data_filenames[ii])\n",
    "    \n",
    "    # Extract source and receiver electrode locations and the observed data\n",
    "    half_AB_separations = df[half_AB_column]\n",
    "    half_MN_separations = df[half_MN_column]\n",
    "    dobs = df[apparent_resistivity_column]\n",
    "\n",
    "    ax.loglog(half_AB_separations, dobs, lw=2)\n",
    "    \n",
    "ax.set_xlabel(\"AB/2 (m)\")\n",
    "ax.set_ylabel(\"Apparent Resistivity ($\\Omega m$)\")\n",
    "ax.legend(data_filenames)\n",
    "ax.grid(True, which=\"both\", ls=\"--\", c='gray')"
   ]
  },
  {
   "cell_type": "code",
   "execution_count": null,
   "metadata": {},
   "outputs": [],
   "source": []
  }
 ],
 "metadata": {
  "kernelspec": {
   "display_name": "Python 3",
   "language": "python",
   "name": "python3"
  },
  "language_info": {
   "codemirror_mode": {
    "name": "ipython",
    "version": 3
   },
   "file_extension": ".py",
   "mimetype": "text/x-python",
   "name": "python",
   "nbconvert_exporter": "python",
   "pygments_lexer": "ipython3",
   "version": "3.8.5"
  }
 },
 "nbformat": 4,
 "nbformat_minor": 4
}
