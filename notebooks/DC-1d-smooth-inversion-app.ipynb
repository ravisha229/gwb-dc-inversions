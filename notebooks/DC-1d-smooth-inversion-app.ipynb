{
 "cells": [
  {
   "cell_type": "markdown",
   "metadata": {},
   "source": [
    "# Smooth 1D DC Resistivity Inversion"
   ]
  },
  {
   "cell_type": "code",
   "execution_count": null,
   "metadata": {},
   "outputs": [],
   "source": [
    "from utils.DCResistivity import DC1DInversionApp\n",
    "dc_app = DC1DInversionApp()"
   ]
  },
  {
   "cell_type": "markdown",
   "metadata": {},
   "source": [
    "# Purpose\n",
    "\n",
    "Here, we load DC sounding data (VES format), interpret the data and invert the data to recover a 1D resistivity model. The steps for setting up and running and inversion and explained. The final result of the notebook is a smooth 1D resistivity model that has approximately the same structures as the true geology.\n",
    "\n",
    "## Outline\n",
    "This notebook is used to complete the following steps:\n",
    "- Step1: Load observed data\n",
    "- Step2: Plot observed data\n",
    "- Step3: Set layer thicknesses\n",
    "- Step4: Set uncertainty\n",
    "- Step5: Run inversion\n",
    "- Step6: Explore inversion results\n",
    "- Step7: Run inversion to compute DOI index\n",
    "- Step8: Plot DOI index"
   ]
  },
  {
   "cell_type": "markdown",
   "metadata": {},
   "source": [
    "## Step 1: Load observed data\n",
    "\n",
    "- **filename:** file name for the observed data. The file is a 'csv' file. It must contain columns named 'AB/2 (m)', 'MN/2 (m)' and 'App. Res. (Ohm m).\n",
    "- **load:** When selected, the notebook will try to load the data file"
   ]
  },
  {
   "cell_type": "code",
   "execution_count": null,
   "metadata": {},
   "outputs": [],
   "source": [
    "dc_app.interact_load_obs()"
   ]
  },
  {
   "cell_type": "markdown",
   "metadata": {},
   "source": [
    "## Step 2: Plot observed data\n",
    "\n",
    "- **plot type:** apparent resistivity can be represented by a *sounding curve* or *histogram*.\n",
    "- **aspect ratio:** aspect ratio for the plot. This allows you to change the size of the picture."
   ]
  },
  {
   "cell_type": "code",
   "execution_count": null,
   "metadata": {},
   "outputs": [],
   "source": [
    "dc_app.interact_plot_obs_data()"
   ]
  },
  {
   "cell_type": "markdown",
   "metadata": {},
   "source": [
    "## Step 3: Set a layer thicknesses\n",
    "\n",
    "The inversion will recover a resistivity value for each layer you define here. It is important that the number of layers you choose and their thicknesses are appropriate. The adjustable parameters are defined below:\n",
    "\n",
    "- **dz_min:** minimum layer thickness (thickness of top layer)\n",
    "- **n_layer:** number of layers\n",
    "- **factor:** geometric factor which we increase thickness with depth\n",
    "\n",
    "The following are some things to consider when choosing the number of layers and their thicknesses:\n",
    "\n",
    "- The value of *dz_min* should be much smaller than the smallest AB/2 value (5-10 times smaller)\n",
    "- The maximum depth for the layers you define should be at least 2 times larger than your biggest AB/2 value\n",
    "- Most of the time, you can get reasonable results by using between 30-60 layers"
   ]
  },
  {
   "cell_type": "code",
   "execution_count": null,
   "metadata": {},
   "outputs": [],
   "source": [
    "dc_app.interact_set_mesh()"
   ]
  },
  {
   "cell_type": "markdown",
   "metadata": {},
   "source": [
    "## Step 4: Set uncertainty\n",
    "\n",
    "The uncertainties are an estimate of the level of noise on your data. If your data have more noise (error bars are larger), you must assign larger uncertainties. The equation for the uncertainty you assign to each data value is:\n",
    "\n",
    "$$ \\text{uncertainty} = 0.01 \\times \\text{percentage}\\times|d^{obs}| + \\text{floor}$$\n",
    "\n",
    "- **percentage (%):** percentage uncertainty\n",
    "- **floor (ohm-m):** floor uncertainty\n",
    "\n",
    "For apparent resistivity data, it is common to choose a percentage between 2%-10%. The floor value is usually something very small; less than 0.0001 $\\Omega m$"
   ]
  },
  {
   "cell_type": "code",
   "execution_count": null,
   "metadata": {},
   "outputs": [],
   "source": [
    "dc_app.interact_set_uncertainty()"
   ]
  },
  {
   "cell_type": "markdown",
   "metadata": {},
   "source": [
    "## Step 5: Run inversion\n",
    "\n",
    "Here, we define parameters necessary to complete the inversion. These parameters are:\n",
    "\n",
    "- $\\rho_0$: initial resistivity model\n",
    "- $\\rho_{ref}$: reference resistivity model\n",
    "- $\\alpha_s$: controls how much the inversion wants to recover a model similar to the reference model\n",
    "- $\\alpha_z$: controls how much the inversion wants to recover a model that is smooth\n",
    "- `maxIter`: maximum number of iteration (10-20 is ideal\n",
    "- `chifact`: chifactor for the target misfit\n",
    "- `beta0_ratio`: ratio to set the initial beta\n",
    "- `coolingFactor`: cooling factor to cool beta\n",
    "- `n_iter_per_beta`: # of interation for each beta value \n",
    "- `run`: run inversion if this is checked\n",
    "\n",
    "Here are some things to consider when choosing these parameters:\n",
    "\n",
    "- If you make $\\alpha_s$ much larger than $\\alpha_z$, the inversion will try very hard to give you an answer that is similar to the reference model. If you make $\\alpha_z$ much larger than $\\alpha_s$, the inversion will try very hard to find a smooth model that explains the data. To start, it is good to set $\\alpha_s = 0.01 \\times \\alpha_z$\n",
    "- If you set *coolingFactor* to a number equal or larger than 4, you should set the *n_iter_per_beta* to a value of 2. This makes sure you solve the problem accurately.\n",
    "- If the inversion only requires a few iterations, your uncertainties may be too large.\n",
    "- If your inversion does not reach *target misfit*, your uncertainties may be too small. The number of layers and their thicknessess may also be incorrect."
   ]
  },
  {
   "cell_type": "code",
   "execution_count": null,
   "metadata": {},
   "outputs": [],
   "source": [
    "dc_app.interact_run_inversion()"
   ]
  },
  {
   "cell_type": "markdown",
   "metadata": {},
   "source": [
    "## Step 6: Explore inversion results\n",
    "\n",
    "- `iteration`: inversion iteration\n",
    "- `curve type`:type of the curve (this is active when `plot type`=`misfit_curve`)\n",
    "- `scale`: linear or log scale (this is active when `plot type`=`misfit_curve`)\n",
    "- `plot type`: type of the plot"
   ]
  },
  {
   "cell_type": "code",
   "execution_count": null,
   "metadata": {},
   "outputs": [],
   "source": [
    "dc_app.interact_plot_inversion_results()"
   ]
  },
  {
   "cell_type": "markdown",
   "metadata": {},
   "source": [
    "## Step 7: Run inversion to compute DOI index\n",
    "\n",
    "Depth of investigation (DOI) index can be computed by following equation (Oldenburg and Li, 1999):\n",
    "\n",
    "$$ \\text{doi index} = \\frac{m^1-m^2}{m_{ref}^1-m_{ref}^2}$$\n",
    "\n",
    "where \n",
    "\n",
    "- $m^1$: inversion model 1 (from Step5)\n",
    "- $m^2$: inversion model 2 (same inversion parameters with model 1 except for `m0` and `mref`\n",
    "- $m_{ref}^1$: reference model 1 (used for Step 5)\n",
    "- $m_{ref}^2$: reference model 2 (=$m_{ref}^1 \\times$ factor)\n",
    "\n",
    "Here a constant factor is multiplied to generate a new reference model. \n",
    "Below app will run inversion to obtain another inversion model ($m^2$), which will allow us to \n",
    "compute DOI index in the following app. \n",
    "\n",
    "### Parameters\n",
    "- `factor`: constant factor to compute a new reference model\n",
    "- `run`: if checked, then a new inverion will run"
   ]
  },
  {
   "cell_type": "code",
   "execution_count": null,
   "metadata": {},
   "outputs": [],
   "source": [
    "dc_app.interact_run_doi()"
   ]
  },
  {
   "cell_type": "markdown",
   "metadata": {},
   "source": [
    "##  Step 8: Plot DOI index\n",
    "\n",
    "\n",
    "- `doi_level`: level of the doi index"
   ]
  },
  {
   "cell_type": "code",
   "execution_count": null,
   "metadata": {},
   "outputs": [],
   "source": [
    "dc_app.interact_plot_doi_results()"
   ]
  },
  {
   "cell_type": "code",
   "execution_count": null,
   "metadata": {},
   "outputs": [],
   "source": []
  }
 ],
 "metadata": {
  "kernelspec": {
   "display_name": "Python 3",
   "language": "python",
   "name": "python3"
  },
  "language_info": {
   "codemirror_mode": {
    "name": "ipython",
    "version": 3
   },
   "file_extension": ".py",
   "mimetype": "text/x-python",
   "name": "python",
   "nbconvert_exporter": "python",
   "pygments_lexer": "ipython3",
   "version": "3.8.5"
  }
 },
 "nbformat": 4,
 "nbformat_minor": 4
}
