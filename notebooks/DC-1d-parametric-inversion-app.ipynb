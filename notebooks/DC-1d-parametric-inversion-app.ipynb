{
 "cells": [
  {
   "cell_type": "markdown",
   "metadata": {},
   "source": [
    "# Parametric 1D DC Resistivity Inversion"
   ]
  },
  {
   "cell_type": "code",
   "execution_count": null,
   "metadata": {},
   "outputs": [],
   "source": [
    "from utils.DCResistivity import DC1D3LayerApp\n",
    "dc_app = DC1D3LayerApp()"
   ]
  },
  {
   "cell_type": "markdown",
   "metadata": {},
   "source": [
    "# Purpose\n",
    "\n",
    "Here, we load DC sounding data (VES format), interpret the data and invert the data to recover a 1D resistivity model. The steps for setting up and running and inversion and explained. In this notebook, we specify the number of layers responsible for the data values. The inversion will adjust the thickness and resistivity of these layers when recovering a resistivity model. The final result of the notebook is a 1D resistivity model that has approximately the same structures as the true geology.\n",
    "\n",
    "## Outline\n",
    "This notebook is used to complete the following steps:\n",
    "- Step 1: Load observed data\n",
    "- Step 2: Manually fit observed VES data with 3 layers\n",
    "- Step 3: Run Parametric Inversion\n",
    "- Step 4: Run inversion"
   ]
  },
  {
   "cell_type": "markdown",
   "metadata": {},
   "source": [
    "## Step 1: Load observed data\n",
    "\n",
    "- **filename:** file name for the observed data. The file is a 'csv' file. It must contain columns named 'AB/2 (m)', 'MN/2 (m)' and 'App. Res. (Ohm m).\n",
    "- **load:** When selected, the notebook will try to load the data file"
   ]
  },
  {
   "cell_type": "code",
   "execution_count": null,
   "metadata": {},
   "outputs": [],
   "source": [
    "dc_app.interact_load_obs()"
   ]
  },
  {
   "cell_type": "markdown",
   "metadata": {},
   "source": [
    "## Step 2: Manually fit observed VES sounding data using 3-layer app\n",
    "\n",
    "Here, we try a *curve fitting* approach to fit the sounding curve with 3 layers. The Earth may have more complicated structures or have more layers, but this is a good way to explain the most important features in the data. The adjustable parameters for this step are:\n",
    "\n",
    "- $\\rho_1$: resistivity of the top layer\n",
    "- $\\rho_2$: resistivity of the second layer\n",
    "- $\\rho_3$: resistivity of the last layer\n",
    "- $h_1$: thickness of the top layer\n",
    "- $h_2$: thickness of the second layer\n",
    "\n",
    "(The last layer has an infinite thickness)"
   ]
  },
  {
   "cell_type": "code",
   "execution_count": null,
   "metadata": {},
   "outputs": [],
   "source": [
    "dc_app.interact_1d_layer()"
   ]
  },
  {
   "cell_type": "markdown",
   "metadata": {},
   "source": [
    "## Step 3: Run Parametric Inversion\n",
    "\n",
    "**Assigning Uncertainties**\n",
    "\n",
    "The uncertainties are an estimate of the level of noise on your data. If your data have more noise (error bars are larger), you must assign larger uncertainties. The equation for the uncertainty you assign to each data value is:\n",
    "\n",
    "$$ \\text{uncertainty} = 0.01 \\times \\text{percentage}\\times|d^{obs}| + \\text{floor}$$\n",
    "\n",
    "The\n",
    "\n",
    "- `percentage (%)`: percentage uncertainty\n",
    "- `floor (ohm-m)`: floor uncertainty\n",
    "\n",
    "For apparent resistivity data, it is common to choose a percentage between 2%-10%. The floor value is usually something very small; less than 0.0001 $\\Omega m$\n",
    "\n",
    "**Inversion Parameters**\n",
    "\n",
    "Paramters specific to running the inversion are:\n",
    "\n",
    "- $\\rho_0$: initial resistivity model\n",
    "- $h_0$: initial thicknesses of all the layers. The bottom layer has infinite thickness.\n",
    "- $n_{layers}$: Number of layers you think there are\n",
    "- `maxIter`: maximum number of iteration (10-30 is ideal)\n",
    "- `run`: run inversion if this is checked\n",
    "\n",
    "Here are some things to consider when choosing these parameters:\n",
    "\n",
    "- The average resistivity and thickness you used to explain the data in step 2 can be good estimates for $\\rho_0$ and $h_0$\n",
    "- The number of segments in the sounding curve can be used to determine how many layers should be used. Using more layers does not guarantee a better result.\n",
    "- If the result does not fit the data, the number of layers could be wrong or the data cannot be explained with a 1D model."
   ]
  },
  {
   "cell_type": "code",
   "execution_count": null,
   "metadata": {},
   "outputs": [],
   "source": [
    "dc_app.interact_run_inversion()"
   ]
  },
  {
   "cell_type": "markdown",
   "metadata": {},
   "source": [
    "## Step 4: Explore inversion results\n",
    "We can look at the model for each inversion iteration to see how the model is iteratively updated\n",
    "\n",
    "- `iteration`: inversion iteration"
   ]
  },
  {
   "cell_type": "code",
   "execution_count": null,
   "metadata": {},
   "outputs": [],
   "source": [
    "dc_app.interact_plot_inversion_results()"
   ]
  },
  {
   "cell_type": "code",
   "execution_count": null,
   "metadata": {},
   "outputs": [],
   "source": []
  }
 ],
 "metadata": {
  "kernelspec": {
   "display_name": "Python 3",
   "language": "python",
   "name": "python3"
  },
  "language_info": {
   "codemirror_mode": {
    "name": "ipython",
    "version": 3
   },
   "file_extension": ".py",
   "mimetype": "text/x-python",
   "name": "python",
   "nbconvert_exporter": "python",
   "pygments_lexer": "ipython3",
   "version": "3.8.5"
  }
 },
 "nbformat": 4,
 "nbformat_minor": 4
}
