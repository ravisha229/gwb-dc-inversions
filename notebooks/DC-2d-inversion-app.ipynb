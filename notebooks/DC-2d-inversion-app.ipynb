{
 "cells": [
  {
   "cell_type": "markdown",
   "metadata": {},
   "source": [
    "# 2D DC Resistivity Inversion"
   ]
  },
  {
   "cell_type": "code",
   "execution_count": null,
   "metadata": {},
   "outputs": [],
   "source": [
    "from utils.DCResistivity import DCRInversionApp\n",
    "dc_app = DCRInversionApp()"
   ]
  },
  {
   "cell_type": "markdown",
   "metadata": {},
   "source": [
    "# Purpose\n",
    "\n",
    "We load observed DC data, and invert to recover a resistivity model. By altering inversion parameters and exploring correspoding inversion results, we investigate important aspects of the 2D DC resistivity inversion. \n",
    "\n",
    "## Outline\n",
    "This notebook includes four steps:\n",
    "- Step1: Load observed data\n",
    "- Step2: Plot observed data\n",
    "- Step3: Set mesh\n",
    "- Step4: Set uncertainty\n",
    "- Step5: Run inversion\n",
    "- Step6: Explore inversion results\n",
    "- Step7: Run inversion to compute DOI index\n",
    "- Step8: Plot DOI index"
   ]
  },
  {
   "cell_type": "markdown",
   "metadata": {},
   "source": [
    "## Step 1: Load observed data\n",
    "\n",
    "- `filename`: file name for the observed data\n",
    "- `topography`: file name for the topography data\n",
    "- `load`: will load the observation file if this is checked\n",
    "- `input type`: type of the input file"
   ]
  },
  {
   "cell_type": "code",
   "execution_count": null,
   "metadata": {},
   "outputs": [],
   "source": [
    "dc_app.interact_load_obs()"
   ]
  },
  {
   "cell_type": "markdown",
   "metadata": {},
   "source": [
    "## Step 2: Plot observed data\n",
    "\n",
    "Once loaded, we examine the data. From the *pseudo-section* plot, we can determine the background resistivity of the Earth and highlight any interesting features. To view the data, we can use the following parameters:\n",
    "\n",
    "- `data type`: type of the data\n",
    "- `plot type`: type of the data plot\n",
    "- `aspect ratio`: aspect ratio for pseudo-section plot. Changes size of plot\n",
    "\n",
    "**IMPORTANT:** The data loaded into this notebook are the measured voltages. We plot the data as apparent resistivities when we want an easier first interpretation. "
   ]
  },
  {
   "cell_type": "code",
   "execution_count": null,
   "metadata": {},
   "outputs": [],
   "source": [
    "dc_app.interact_plot_obs_data()"
   ]
  },
  {
   "cell_type": "markdown",
   "metadata": {},
   "source": [
    "## Step 3: Set a 2D mesh \n",
    "\n",
    "Designing an mesh is very important. If we use smaller cells in our mesh, we solve the problem more accurately. However, we cannot make the cells too small because it requires too much computer memory. Parameters for designing a mesh are:\n",
    "\n",
    "- `dx`: horizontal cell size\n",
    "- `dz`: vertical cell size\n",
    "- `corezlength`: the depth that the core mesh extends\n",
    "- `xpad`: thickness of padding region in the horizontal direction\n",
    "- `zpad`: thickness of padding region in the vertical direction\n",
    "- `mesh_type`: tensor or tree mesh\n",
    "\n",
    "Some things to consider when designing a mesh:\n",
    "\n",
    "- Using a 'Tree Mesh' will **always** reduce the number of cells.\n",
    "\n",
    "\n",
    "- To choose a good *dx* value, think about the minimum electrode spacing. The value of *dx* should be 25%-40% as large as the minimum electrode spacing. So if minimum electrode spacing is 10 m, you should choose a *dx* between 2.5 m and 4 m.\n",
    "\n",
    "\n",
    "- It is common to let *dz* be the same as *dx*. Sometimes we set *dz* to be half the size of *dx*.\n",
    "\n",
    "\n",
    "- *corezlength* defines a depth limit for where you think most currents are. Below this depth, you are assuming the currents are very small. A good first guess would be to set *corezlength* to be equal to the maximum AB electrode spacing.\n",
    "\n",
    "\n",
    "- The padding (*xpad* and *zpad*) needs to be big enough so that the currents are zero on the edges of your mesh. For a Wenner-Schlumberger survey, set the padding region to be 1-2 times larger than the maximum AB spacing. For a dipole-dipole survey, set the padding region to be 2-3 times larger than the maximum AB spacing"
   ]
  },
  {
   "cell_type": "code",
   "execution_count": null,
   "metadata": {},
   "outputs": [],
   "source": [
    "dc_app.interact_set_mesh()"
   ]
  },
  {
   "cell_type": "markdown",
   "metadata": {},
   "source": [
    "## Step 4: Set uncertainty\n",
    "\n",
    "The uncertainties are an estimate of the level of noise on your data. If your data have more noise (error bars are larger), you must assign larger uncertainties. The equation for the uncertainty you assign to each data value is:\n",
    "\n",
    "$$ \\text{uncertainty} = 0.01 \\times \\text{percentage}\\times|d^{obs}| + \\text{floor}$$\n",
    "\n",
    "- **percentage (%):** percentage uncertainty\n",
    "- **floor (V):** floor uncertainty. The raw data are volts, not apparent resistivities.\n",
    "\n",
    "**The data are measured voltages (not apparent resistivities)**. So we have to apply uncertainties on the voltage values. Here are some things to consider when choosing uncertainties:\n",
    "\n",
    "- For DC resistivity data, it is common to choose a percentage between 2%-10%. A higher percentage is chosen if your data are more noisy.\n",
    "- Measurements with large electrode spacings give you information at larger depth. But since the signal is weaker, these data are more noisy. We must apply a floor uncertainty so we do not overfit these small voltage values.\n",
    "- Higher uncertainties are usually chosen for dipole-dipole data and smaller uncertainties are chosen for Wenner-Schlumberger data. This is because dipole-dipole surveys have weaker currents."
   ]
  },
  {
   "cell_type": "code",
   "execution_count": null,
   "metadata": {},
   "outputs": [],
   "source": [
    "dc_app.interact_set_uncertainty()"
   ]
  },
  {
   "cell_type": "markdown",
   "metadata": {},
   "source": [
    "## Step 5: Run inversion\n",
    "\n",
    "Here, we define parameters necessary to complete the inversion. These parameters are:\n",
    "\n",
    "- $\\rho_0$: initial resistivity model\n",
    "- $\\rho_{ref}$: reference resistivity model\n",
    "- $\\alpha_s$: controls how much the inversion wants to recover a model similar to the reference model\n",
    "- $\\alpha_x$: controls how much the inversion wants to recover a model that is horizontally smooth\n",
    "- $\\alpha_z$: controls how much the inversion wants to recover a model that is vertically smooth\n",
    "- `maxIter`: maximum number of iteration (10-15 is ideal)\n",
    "- `chifact`: chifactor for the target misfit\n",
    "- `beta0_ratio`: ratio to set the initial beta (default value is 10)\n",
    "- `coolingFactor`: cooling factor to cool beta (default value is 2)\n",
    "- `n_iter_per_beta`: # of interation for each beta value \n",
    "- `run`: run inversion if this is checked\n",
    "\n",
    "Here are some things to consider when choosing these parameters:\n",
    "\n",
    "- If you make $\\alpha_s$ much larger than $\\alpha_x$ and $\\alpha_z$, the inversion will try very hard to give you an answer that is similar to the reference model. If you make $\\alpha_x$ and $\\alpha_z$ much larger than $\\alpha_s$, the inversion will try very hard to find a smooth model that explains the data. To start, it is good to set $\\alpha_s = 0.01$, $\\alpha_x = 1$ and $\\alpha_z = 1$.\n",
    "- If you set *coolingFactor* to a number equal or larger than 4, you should set the *n_iter_per_beta* to a value of 2. This makes sure you solve the problem accurately.\n",
    "- If the inversion only requires a few iterations, your uncertainties may be too large.\n",
    "- If your inversion does not reach *target misfit*, your uncertainties may be too small. The number of layers and their thicknessess may also be incorrect."
   ]
  },
  {
   "cell_type": "code",
   "execution_count": null,
   "metadata": {},
   "outputs": [],
   "source": [
    "dc_app.interact_run_inversion()"
   ]
  },
  {
   "cell_type": "markdown",
   "metadata": {},
   "source": [
    "## Step 6: Explore inversion results\n",
    "\n",
    "- `iteration`: inversion iteration\n",
    "- `curve type`:type of the curve (this is active when `plot type`=`misfit_curve`)\n",
    "- `scale`: linear or log scale (this is active when `plot type`=`misfit_curve`)\n",
    "- `plot type`: type of the plot\n",
    "- $\\rho_{min}$, $\\rho_{max}$: colorbar limits\n",
    "- `aspect ratio`: aspect ratio for data misfit plot\n",
    "- `show grid?`: show mesh grid when this is checked\n",
    "- `show core?`: show only core domain when this is checked. this is better to interpret results.\n",
    "- `reverse colormap?`: Reverse the colormap"
   ]
  },
  {
   "cell_type": "code",
   "execution_count": null,
   "metadata": {},
   "outputs": [],
   "source": [
    "dc_app.interact_plot_inversion_results()"
   ]
  },
  {
   "cell_type": "markdown",
   "metadata": {},
   "source": [
    "## Step 7: Run inversion to compute DOI index\n",
    "\n",
    "Depth of investigation (DOI) index can be computed by following equation (Oldenburg and Li, 1999):\n",
    "\n",
    "$$ \\text{doi index} = \\frac{m^1-m^2}{m_{ref}^1-m_{ref}^2}$$\n",
    "\n",
    "where \n",
    "\n",
    "- $m^1$: inversion model 1 (from Step5)\n",
    "- $m^2$: inversion model 2 (same inversion parameters with model 1 except for `m0` and `mref`\n",
    "- $m_{ref}^1$: reference model 1 (used for Step 5)\n",
    "- $m_{ref}^2$: reference model 2 (=$m_{ref}^1 \\times$ factor)\n",
    "\n",
    "Here a constant factor is multiplied to generate a new reference model. \n",
    "Below app will run inversion to obtain another inversion model ($m^2$), which will allow us to \n",
    "compute DOI index in the following app. \n",
    "\n",
    "### Parameters\n",
    "- `factor`: constant factor to compute a new reference model\n",
    "- `run`: if checked, then a new inverion will run"
   ]
  },
  {
   "cell_type": "code",
   "execution_count": null,
   "metadata": {},
   "outputs": [],
   "source": [
    "dc_app.interact_run_doi()"
   ]
  },
  {
   "cell_type": "markdown",
   "metadata": {},
   "source": [
    "##  Step 8: Plot DOI index\n",
    "\n",
    "\n",
    "- `plot type`: type of the plot\n",
    "- `scale`: linear or log scale (this is active when `plot type`=`models` or `final`)\n",
    "- $\\rho_{min}$, $\\rho_{max}$: colorbar limits\n",
    "- `doi_level`: level of the doi index\n",
    "- `aspect_ratio`: vertical to horizontal ratio\n",
    "- `show grid?`: show mesh grid when this is checked\n",
    "- `show core?`: show only core domain when this is checked\n",
    "- `reverse colormap?`: Reverse the colormap for model plots"
   ]
  },
  {
   "cell_type": "code",
   "execution_count": null,
   "metadata": {},
   "outputs": [],
   "source": [
    "dc_app.interact_plot_doi_results()"
   ]
  },
  {
   "cell_type": "code",
   "execution_count": null,
   "metadata": {},
   "outputs": [],
   "source": []
  }
 ],
 "metadata": {
  "kernelspec": {
   "display_name": "Python 3",
   "language": "python",
   "name": "python3"
  },
  "language_info": {
   "codemirror_mode": {
    "name": "ipython",
    "version": 3
   },
   "file_extension": ".py",
   "mimetype": "text/x-python",
   "name": "python",
   "nbconvert_exporter": "python",
   "pygments_lexer": "ipython3",
   "version": "3.8.5"
  }
 },
 "nbformat": 4,
 "nbformat_minor": 4
}
