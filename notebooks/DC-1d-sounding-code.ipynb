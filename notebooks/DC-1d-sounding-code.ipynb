{
 "cells": [
  {
   "cell_type": "markdown",
   "metadata": {},
   "source": [
    "# DC Resistivity Forward Modeling: 1D Sounding\n",
    "\n",
    "\n",
    "In this notebook, we predict data for a sounding survey over a layered Earth.\n",
    "\n",
    "## Import Modules"
   ]
  },
  {
   "cell_type": "code",
   "execution_count": null,
   "metadata": {},
   "outputs": [],
   "source": [
    "import numpy as np\n",
    "import matplotlib as mpl\n",
    "import matplotlib.pyplot as plt\n",
    "import pandas as pd\n",
    "\n",
    "from discretize import TensorMesh\n",
    "\n",
    "from SimPEG import maps\n",
    "from SimPEG.electromagnetics.static import resistivity as dc\n",
    "from SimPEG.electromagnetics.static.utils.StaticUtils import plot_layer\n",
    "\n",
    "mpl.rcParams.update({'font.size': 14})"
   ]
  },
  {
   "cell_type": "markdown",
   "metadata": {},
   "source": [
    "## User Defined Parameters for the Notebook\n",
    "\n",
    "Here, the user defines the parameters required to run the notebook. The parameters are as follows:\n",
    "\n",
    "- **half_AB_separation:** a numpy array containing the AB/2 values for the source electrodes\n",
    "- **half_MN_separations:** a numpy array containing the MN/2 values for the receiver electrodes\n",
    "- **resistivity_model:** Electrical resistivity for each layer in Ohm-meters\n",
    "- **layer_thicknesses:** Layer thicknesses in meters. Defined from top layer to bottom\n",
    "- **file_name:** The output file location for the data\n",
    "- **add_noise:** Whether to add noise to the simulated data (Either `True` or `False`)\n",
    "- **standard_deviation:** The amount of noise to add to the data set"
   ]
  },
  {
   "cell_type": "markdown",
   "metadata": {},
   "source": [
    "## Define the Survey\n",
    "These are the electrode locations, here we have set them for a Schlumberger sounding"
   ]
  },
  {
   "cell_type": "code",
   "execution_count": null,
   "metadata": {},
   "outputs": [],
   "source": [
    "# Make a numpy array for AB/2 values\n",
    "half_AB_separation = np.r_[\n",
    "    5,10,20,30,40,\n",
    "    40,50,60,70,80,90,100,\n",
    "    100,120,140,160,180,200,\n",
    "    200,220,240,260,280,300,\n",
    "    300,320,350,370,400\n",
    "]  \n",
    "\n",
    "# Make a numpy array for MN/s values\n",
    "half_MN_separation = np.r_[\n",
    "    1,1,1,1,1,\n",
    "    5,5,5,5,5,5,5,\n",
    "    10,10,10,10,10,10,\n",
    "    20,20,20,20,20,20,\n",
    "    30,30,30,30,30\n",
    "]  "
   ]
  },
  {
   "cell_type": "markdown",
   "metadata": {},
   "source": [
    "Next, we define the model parameters, the thicknesses of each layer, and the resistivities of each layer\n",
    "\n",
    "**Note:** The `layer_thickness` has one less element than the resistivity model (the last layer is assumed to be infinitely thick)"
   ]
  },
  {
   "cell_type": "code",
   "execution_count": null,
   "metadata": {},
   "outputs": [],
   "source": [
    "# Define model. A resistivity (Ohm meters) for each layer.\n",
    "resistivity_model = np.r_[400, 50, 400, 200, 2000, 20, 2000]\n",
    "\n",
    "# Define the layer thicknesses\n",
    "layer_thicknesses = np.r_[8., 8., 4., 10., 10., 10.]"
   ]
  },
  {
   "cell_type": "markdown",
   "metadata": {},
   "source": [
    "Now, we set the file name where we would like to write the data out to"
   ]
  },
  {
   "cell_type": "code",
   "execution_count": null,
   "metadata": {},
   "outputs": [],
   "source": [
    "# File to output the AB/2, MN/2, apparent resistivity, and (optionally) the standard deviation\n",
    "filename = 'sounding_data/1D_Schlumberger_synthetic.csv'"
   ]
  },
  {
   "cell_type": "markdown",
   "metadata": {},
   "source": [
    "Finally, we set the parameters that say if we want to add noise to the simulated data"
   ]
  },
  {
   "cell_type": "code",
   "execution_count": null,
   "metadata": {},
   "outputs": [],
   "source": [
    "# These parameters control whether (and how much) noise is added to the simulated data\n",
    "add_noise = False\n",
    "standard_deviation = 0.05 # Add Gaussian noise with 5% standard deviation"
   ]
  },
  {
   "cell_type": "markdown",
   "metadata": {},
   "source": [
    "## Define the Survey Parameters for SimPEG\n",
    "\n",
    "This portion of the notebook defines a Schlumberger sounding survey using the AB/2 and MN/2 values provided."
   ]
  },
  {
   "cell_type": "code",
   "execution_count": null,
   "metadata": {},
   "outputs": [],
   "source": [
    "source_list = []  # create empty array for sources to live\n",
    "\n",
    "for ii in range(0, len(half_AB_separation)):\n",
    "    \n",
    "    # AB electrode locations for source. Each is a (1, 3) numpy array\n",
    "    A_location = np.r_[-half_AB_separation[ii], 0., 0.]\n",
    "    B_location = np.r_[half_AB_separation[ii], 0., 0.]\n",
    "\n",
    "    # MN electrode locations for receivers. Each is an (1, 3) numpy array\n",
    "    M_location = np.r_[-half_MN_separation[ii], 0., 0.]\n",
    "    N_location = np.r_[half_MN_separation[ii], 0., 0.]\n",
    "\n",
    "    # Create receivers list. Define as pole or dipole.\n",
    "    receiver = dc.receivers.Dipole(\n",
    "        M_location, N_location\n",
    "    )\n",
    "    receiver_list = [receiver]\n",
    "\n",
    "    # Define the source properties and associated receivers\n",
    "    source = dc.sources.Dipole(receiver_list, A_location, B_location)\n",
    "    \n",
    "    # Add source to list of sources\n",
    "    source_list.append(source)\n",
    "\n",
    "# Define survey\n",
    "survey = dc.Survey(source_list)"
   ]
  },
  {
   "cell_type": "markdown",
   "metadata": {},
   "source": [
    "## Define a 1D Layered Earth \n",
    "\n",
    "This part of the notebook creates a layered Earth on which to compuate the forward simulation. Once created, we can plot the resistivity model on our 1D Earth."
   ]
  },
  {
   "cell_type": "code",
   "execution_count": null,
   "metadata": {},
   "outputs": [],
   "source": [
    "# Create a TensorMesh for forward modeling\n",
    "mesh = TensorMesh([np.r_[layer_thicknesses, 5*layer_thicknesses[-1]]])\n",
    "x_min = np.min(resistivity_model)\n",
    "x_max = np.max(resistivity_model)\n",
    "\n",
    "# Plot the 1D model\n",
    "fig, ax = plt.subplots(1, 1, figsize=(5, 6))\n",
    "plot_layer(resistivity_model, mesh, ax=ax, depth_axis=False)\n",
    "ax.grid(True, which=\"both\", ls=\"--\", c='gray')\n",
    "ax.set_xlim(0.5*x_min, 2*x_max);"
   ]
  },
  {
   "cell_type": "markdown",
   "metadata": {},
   "source": [
    "## Define the Forward Simulation and Predict DC Resistivity Data\n",
    "\n",
    "In this part of the notebook, all the pieces needed to predict the data are assembled into a *simulation*. Once created, we can predict data for a given *resistivity model*. We have chosen to predicte the data in terms of apparent resistivity, as opposed to raw voltage. Once the data are predicted, we plot the Schlumberger sounding curve."
   ]
  },
  {
   "cell_type": "code",
   "execution_count": null,
   "metadata": {},
   "outputs": [],
   "source": [
    "# Define mapping from model to active cells. Here, all layers are use in the\n",
    "# forward simulation.\n",
    "model_map = maps.IdentityMap(mesh)\n",
    "\n",
    "# Create a simulation object\n",
    "simulation = dc.simulation_1d.Simulation1DLayers(\n",
    "    survey=survey, rhoMap=model_map, thicknesses=layer_thicknesses,\n",
    "    data_type=\"apparent_resistivity\"\n",
    ")\n",
    "\n",
    "# Predict data for a given model, with noise\n",
    "data_obj = simulation.make_synthetic_data(\n",
    "    resistivity_model,\n",
    "    standard_devation=standard_deviation, add_noise=add_noise\n",
    ")\n",
    "\n",
    "# Plot apparent resistivities on sounding curve\n",
    "fig, ax = plt.subplots(1, 1, figsize=(11, 5))\n",
    "ax.loglog(half_AB_separation, data_obj.dobs, 'b+', ms=10, mew=2)\n",
    "ax.set_xlabel(\"AB/2 (m)\")\n",
    "ax.set_ylabel(\"Apparent Resistivity ($\\Omega m$)\")\n",
    "ax.grid(True, which=\"both\", ls=\"--\", c='gray')"
   ]
  },
  {
   "cell_type": "code",
   "execution_count": null,
   "metadata": {},
   "outputs": [],
   "source": [
    "out_dat = np.c_[half_AB_separation, half_MN_separation, data_obj.dobs]\n",
    "columns = ['AB/2 (m)','MN/2 (m)','App. Res. (Ohm m)']\n",
    "if add_noise:\n",
    "    columns += ['uncertainty (Ohm m)']\n",
    "    out_dat = np.c_[out_dat, data_obj.uncertainty]\n",
    "df = pd.DataFrame(out_dat, columns=columns)\n",
    "df.to_csv(filename, index=False)"
   ]
  },
  {
   "cell_type": "code",
   "execution_count": null,
   "metadata": {},
   "outputs": [],
   "source": []
  }
 ],
 "metadata": {
  "kernelspec": {
   "display_name": "Python 3",
   "language": "python",
   "name": "python3"
  },
  "language_info": {
   "codemirror_mode": {
    "name": "ipython",
    "version": 3
   },
   "file_extension": ".py",
   "mimetype": "text/x-python",
   "name": "python",
   "nbconvert_exporter": "python",
   "pygments_lexer": "ipython3",
   "version": "3.8.5"
  }
 },
 "nbformat": 4,
 "nbformat_minor": 4
}
